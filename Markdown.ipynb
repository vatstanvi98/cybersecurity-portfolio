{
 "cells": [
  {
   "cell_type": "markdown",
   "id": "74872280-784e-4e50-a3db-88cd141bfe68",
   "metadata": {},
   "source": [
    "# SIEM Log Analysis Dashboard\n",
    "\n",
    "This notebook provides a summary and visual dashboard of login attempts and flagged suspicious IP addresses.\n",
    "\n",
    "---\n",
    "\n",
    "## Summary Statistics\n",
    "- Total login attempts processed\n",
    "- Number of failed login attempts\n",
    "- Number of suspicious IPs detected\n",
    "\n",
    "## Visualizations\n",
    "- Bar chart showing the number of failed login attempts by flagged IP\n",
    "- Timeline plot showing when failed attempts happened for each flagged IP\n",
    "\n",
    "---\n"
   ]
  }
 ],
 "metadata": {
  "kernelspec": {
   "display_name": "anaconda-ai-2024.04-py310",
   "language": "python",
   "name": "conda-env-anaconda-ai-2024.04-py310-py"
  },
  "language_info": {
   "codemirror_mode": {
    "name": "ipython",
    "version": 3
   },
   "file_extension": ".py",
   "mimetype": "text/x-python",
   "name": "python",
   "nbconvert_exporter": "python",
   "pygments_lexer": "ipython3",
   "version": "3.10.13"
  }
 },
 "nbformat": 4,
 "nbformat_minor": 5
}
