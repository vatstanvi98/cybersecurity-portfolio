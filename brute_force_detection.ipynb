{
 "cells": [
  {
   "cell_type": "code",
   "execution_count": null,
   "id": "66297895",
   "metadata": {},
   "outputs": [],
   "source": [
    "\n",
    "import pandas as pd\n",
    "from datetime import timedelta\n",
    "\n",
    "# Load logs\n",
    "df = pd.read_csv(\"../data/auth_logs.csv\", parse_dates=[\"timestamp\"])\n",
    "\n",
    "# Sort by IP and timestamp\n",
    "df = df.sort_values(by=[\"source_ip\", \"timestamp\"])\n",
    "\n",
    "# Define brute force: 5+ failed logins within 5 minutes\n",
    "brute_force_ips = []\n",
    "\n",
    "for ip in df[\"source_ip\"].unique():\n",
    "    ip_df = df[df[\"source_ip\"] == ip]\n",
    "    failures = ip_df[ip_df[\"auth_result\"] == \"FAIL\"]\n",
    "\n",
    "    for i in range(len(failures) - 4):\n",
    "        window = failures.iloc[i:i+5]\n",
    "        time_diff = window.iloc[-1][\"timestamp\"] - window.iloc[0][\"timestamp\"]\n",
    "        if time_diff <= timedelta(minutes=5):\n",
    "            brute_force_ips.append(ip)\n",
    "            break\n",
    "\n",
    "# Deduplicate and save results\n",
    "flagged = pd.DataFrame(set(brute_force_ips), columns=[\"suspicious_ip\"])\n",
    "flagged.to_csv(\"../output/flagged_ips.csv\", index=False)\n",
    "print(flagged)\n"
   ]
  }
 ],
 "metadata": {},
 "nbformat": 4,
 "nbformat_minor": 5
}