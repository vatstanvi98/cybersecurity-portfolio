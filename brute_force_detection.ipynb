{
 "cells": [
  {
   "cell_type": "code",
   "execution_count": 5,
   "id": "66297895",
   "metadata": {},
   "outputs": [
    {
     "name": "stdout",
     "output_type": "stream",
     "text": [
      "  suspicious_ip\n",
      "0    172.16.0.1\n",
      "1  192.168.1.20\n",
      "2  192.168.1.10\n",
      "3    10.10.10.5\n",
      "4   203.0.113.5\n"
     ]
    }
   ],
   "source": [
    "import pandas as pd\n",
    "from datetime import timedelta\n",
    "import os\n",
    "\n",
    "# Load logs\n",
    "df = pd.read_csv(\"auth_logs.csv\", parse_dates=[\"timestamp\"])\n",
    "\n",
    "# Sort by IP and timestamp\n",
    "df = df.sort_values(by=[\"source_ip\", \"timestamp\"])\n",
    "\n",
    "# Define brute force: 5+ failed logins within 5 minutes\n",
    "brute_force_ips = []\n",
    "\n",
    "for ip in df[\"source_ip\"].unique():\n",
    "    ip_df = df[df[\"source_ip\"] == ip]\n",
    "    failures = ip_df[ip_df[\"auth_result\"] == \"FAIL\"]\n",
    "\n",
    "    for i in range(len(failures) - 4):\n",
    "        window = failures.iloc[i:i+5]\n",
    "        time_diff = window.iloc[-1][\"timestamp\"] - window.iloc[0][\"timestamp\"]\n",
    "        if time_diff <= timedelta(minutes=5):\n",
    "            brute_force_ips.append(ip)\n",
    "            break\n",
    "\n",
    "# Deduplicate and prepare results\n",
    "flagged = pd.DataFrame(set(brute_force_ips), columns=[\"suspicious_ip\"])\n",
    "\n",
    "# Save results to the current directory instead of trying to access parent directory\n",
    "# Changed from \"../output/flagged_ips.csv\" to \"flagged_ips.csv\"\n",
    "flagged.to_csv(\"flagged_ips.csv\", index=False)\n",
    "print(flagged)"
   ]
  }
 ],
 "metadata": {
  "kernelspec": {
   "display_name": "anaconda-panel-2023.05-py310",
   "language": "python",
   "name": "conda-env-anaconda-panel-2023.05-py310-py"
  },
  "language_info": {
   "codemirror_mode": {
    "name": "ipython",
    "version": 3
   },
   "file_extension": ".py",
   "mimetype": "text/x-python",
   "name": "python",
   "nbconvert_exporter": "python",
   "pygments_lexer": "ipython3",
   "version": "3.11.5"
  }
 },
 "nbformat": 4,
 "nbformat_minor": 5
}
